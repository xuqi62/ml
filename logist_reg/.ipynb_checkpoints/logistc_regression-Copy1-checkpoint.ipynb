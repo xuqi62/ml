{
 "cells": [
  {
   "cell_type": "markdown",
   "metadata": {},
   "source": [
    "## Logistic Regression\n",
    "使用Logistic回归解决二分类问题，数据来源于kaggle手写数字识别数据集。\n",
    "\n",
    "数字0为类别0;数字1-9为类别1.\n",
    "\n"
   ]
  },
  {
   "cell_type": "code",
   "execution_count": 25,
   "metadata": {
    "scrolled": true
   },
   "outputs": [
    {
     "name": "stdout",
     "output_type": "stream",
     "text": [
      "init 11111\n",
      "data shape: (42000, 785)\n",
      "data shape: (42000, 784)\n",
      "xArr.shape: (784, 42000) (1, 42000)\n",
      "(1, 784)\n",
      "loss sum: [29112.18158352]\n",
      "loss sum: [4806.86770999]\n",
      "loss sum: [3632.12352701]\n",
      "loss sum: [3129.03400032]\n",
      "loss sum: [2832.05772575]\n",
      "loss sum: [2630.51392444]\n",
      "loss sum: [2482.50245393]\n",
      "loss sum: [2368.0812654]\n",
      "loss sum: [2276.35697971]\n",
      "loss sum: [2200.80218654]\n",
      "y_hat shape: (1, 42000)\n",
      "err rate: 0.9867857142857143\n"
     ]
    }
   ],
   "source": [
    "# %load lr.py\n",
    "#!/usr/bin/env python3\n",
    "\n",
    "import numpy as np\n",
    "import matplotlib.pyplot as plt\n",
    "import pandas as pd\n",
    "\n",
    "class LogisticRegression:\n",
    "    def __init__(self):\n",
    "        print(\"init 11111\")\n",
    "        self.__learning_rate = 0.000001\n",
    "        self.__lamda = 0.01\n",
    "        \n",
    "    def __sigmoid(self, x):    \n",
    "        return 1.0/(1+ np.exp(-x))      \n",
    "    \n",
    "    def gradDesc(self, xArr, yArr):\n",
    "        n,m = xArr.shape      \n",
    "        \n",
    "        print(\"xArr.shape:\", xArr.shape, yArr.shape)\n",
    "        self.__W = np.zeros((1, n), dtype=np.float64)\n",
    "        self.__b = 0.0\n",
    "        print(self.__W.shape)\n",
    "        step = 1000\n",
    "        alpha = self.__learning_rate\n",
    "        \n",
    "        for i in range(step):\n",
    "            y_hat = self.__sigmoid(self.__W.dot(xArr) + self.__b)\n",
    "            loss = y_hat - yArr\n",
    "\n",
    "            self.__W = self.__W - alpha*loss.dot(xArr.T)\n",
    "            self.__b = self.__b - alpha*loss\n",
    "            if(i%100 == 0):\n",
    "                ones_array = np.ones((1, m))           \n",
    "                loss_arr = -yArr*np.log(y_hat)-(ones_array-yArr)*np.log(ones_array - y_hat)\n",
    "                loss = np.sum(loss_arr, axis=1)\n",
    "                print(\"loss sum:\", loss)\n",
    "        return self.__W\n",
    "    \n",
    "    def predict(self, xArr, yArr):\n",
    "        n, m = xArr.shape\n",
    "\n",
    "        y_hat = self.__sigmoid(self.__W.dot(xArr) + self.__b)\n",
    "        print(\"y_hat shape:\", y_hat.shape)\n",
    "        \n",
    "        right = 0\n",
    "        for i in range(m):\n",
    "            if((yArr[0][i]==1) and (y_hat[0][i]>0.5)):\n",
    "                right += 1\n",
    "            elif ((yArr[0][i]==0) and (y_hat[0][i]<=0.5)):\n",
    "                right += 1\n",
    "        print (\"rate:\", right / m)\n",
    "        return\n",
    "\n",
    "if __name__ == \"__main__\":\n",
    "    lr = LogisticRegression();\n",
    "    \n",
    "    raw_data = pd.read_csv(\"train.csv\", header=0)\n",
    "    values = raw_data.values\n",
    "    \n",
    "    m, n = values.shape\n",
    "    print (\"data shape:\", values.shape)\n",
    "    \n",
    "    dataTrain = values[0::, 1::]\n",
    "\n",
    "    label = values[0::, 0]\n",
    "    labelTrain = []\n",
    "    for i in range(m):\n",
    "        if(label[i] > 0):\n",
    "            labelTrain.append(1)\n",
    "        else:\n",
    "            labelTrain.append(0)\n",
    "    \n",
    "    xArr = np.array(dataTrain, dtype=np.float64).T / 255.0\n",
    "    n, m = xArr.shape\n",
    "    yArr = np.array(labelTrain, dtype=np.float64).reshape(1, m)\n",
    "    \n",
    "    print(\"data shape:\", dataTrain.shape)\n",
    "    \n",
    "    W1 = lr.gradDesc(xArr, yArr)\n",
    "    \n",
    "    lr.predict(xArr, yArr)\n"
   ]
  },
  {
   "cell_type": "code",
   "execution_count": null,
   "metadata": {},
   "outputs": [],
   "source": []
  },
  {
   "cell_type": "code",
   "execution_count": null,
   "metadata": {},
   "outputs": [],
   "source": []
  },
  {
   "cell_type": "code",
   "execution_count": null,
   "metadata": {
    "scrolled": true
   },
   "outputs": [],
   "source": []
  },
  {
   "cell_type": "code",
   "execution_count": null,
   "metadata": {},
   "outputs": [],
   "source": []
  }
 ],
 "metadata": {
  "kernelspec": {
   "display_name": "Python 3",
   "language": "python",
   "name": "python3"
  },
  "language_info": {
   "codemirror_mode": {
    "name": "ipython",
    "version": 3
   },
   "file_extension": ".py",
   "mimetype": "text/x-python",
   "name": "python",
   "nbconvert_exporter": "python",
   "pygments_lexer": "ipython3",
   "version": "3.5.2"
  }
 },
 "nbformat": 4,
 "nbformat_minor": 2
}
